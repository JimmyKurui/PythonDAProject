{
  "nbformat": 4,
  "nbformat_minor": 0,
  "metadata": {
    "colab": {
      "name": "TitanicProject(1).ipynb",
      "provenance": [],
      "authorship_tag": "ABX9TyOpXWInocvd8VAlAup3REK2"
    },
    "kernelspec": {
      "name": "python3",
      "display_name": "Python 3"
    },
    "language_info": {
      "name": "python"
    }
  },
  "cells": [
    {
      "cell_type": "code",
      "execution_count": null,
      "metadata": {
        "id": "PufSja6D2X9k"
      },
      "outputs": [],
      "source": [
        ""
      ]
    }
  ]
}